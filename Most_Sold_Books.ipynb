{
 "cells": [
  {
   "cell_type": "code",
   "execution_count": 230,
   "id": "db3c325c-ae23-4227-b68d-e4d1078b3c79",
   "metadata": {},
   "outputs": [],
   "source": [
    "import pandas\n",
    "import matplotlib.pyplot as plt\n",
    "import seaborn as sns"
   ]
  },
  {
   "cell_type": "code",
   "execution_count": 232,
   "id": "0ba1fa45-3afc-4b38-b8b9-515003509395",
   "metadata": {},
   "outputs": [],
   "source": [
    "url = 'https://en.wikipedia.org/wiki/List_of_best-selling_books'"
   ]
  },
  {
   "cell_type": "code",
   "execution_count": 234,
   "id": "cd87d85e-bf60-44b1-b2c7-e4ec4bd98995",
   "metadata": {},
   "outputs": [],
   "source": [
    "df = pandas.read_html(url)"
   ]
  },
  {
   "cell_type": "code",
   "execution_count": 235,
   "id": "3d2c7391-6743-4a57-9557-6d3e80b798ec",
   "metadata": {},
   "outputs": [
    {
     "name": "stdout",
     "output_type": "stream",
     "text": [
      "The books with more than 100 million copies sold\n"
     ]
    },
    {
     "data": {
      "text/html": [
       "<div>\n",
       "<style scoped>\n",
       "    .dataframe tbody tr th:only-of-type {\n",
       "        vertical-align: middle;\n",
       "    }\n",
       "\n",
       "    .dataframe tbody tr th {\n",
       "        vertical-align: top;\n",
       "    }\n",
       "\n",
       "    .dataframe thead th {\n",
       "        text-align: right;\n",
       "    }\n",
       "</style>\n",
       "<table border=\"1\" class=\"dataframe\">\n",
       "  <thead>\n",
       "    <tr style=\"text-align: right;\">\n",
       "      <th></th>\n",
       "      <th>Book</th>\n",
       "      <th>Author(s)</th>\n",
       "      <th>Original language</th>\n",
       "      <th>First published</th>\n",
       "      <th>Approximate sales</th>\n",
       "      <th>Genre</th>\n",
       "    </tr>\n",
       "  </thead>\n",
       "  <tbody>\n",
       "    <tr>\n",
       "      <th>0</th>\n",
       "      <td>A Tale of Two Cities</td>\n",
       "      <td>Charles Dickens</td>\n",
       "      <td>English</td>\n",
       "      <td>1859</td>\n",
       "      <td>&gt;200 million[21]</td>\n",
       "      <td>Historical fiction</td>\n",
       "    </tr>\n",
       "    <tr>\n",
       "      <th>1</th>\n",
       "      <td>The Little Prince (Le Petit Prince)</td>\n",
       "      <td>Antoine de Saint-Exupéry</td>\n",
       "      <td>French</td>\n",
       "      <td>1943</td>\n",
       "      <td>200 million[22][23][24]</td>\n",
       "      <td>Fantasy, children's fiction</td>\n",
       "    </tr>\n",
       "    <tr>\n",
       "      <th>2</th>\n",
       "      <td>The Alchemist (O Alquimista)</td>\n",
       "      <td>Paulo Coelho</td>\n",
       "      <td>Portuguese</td>\n",
       "      <td>1988</td>\n",
       "      <td>150 million[25][26]</td>\n",
       "      <td>Fantasy</td>\n",
       "    </tr>\n",
       "    <tr>\n",
       "      <th>3</th>\n",
       "      <td>Harry Potter and the Philosopher's Stone</td>\n",
       "      <td>J. K. Rowling</td>\n",
       "      <td>English</td>\n",
       "      <td>1997</td>\n",
       "      <td>120 million[27][28]</td>\n",
       "      <td>Fantasy, children's fiction</td>\n",
       "    </tr>\n",
       "    <tr>\n",
       "      <th>4</th>\n",
       "      <td>And Then There Were None</td>\n",
       "      <td>Agatha Christie</td>\n",
       "      <td>English</td>\n",
       "      <td>1939</td>\n",
       "      <td>100 million[29]</td>\n",
       "      <td>Mystery</td>\n",
       "    </tr>\n",
       "  </tbody>\n",
       "</table>\n",
       "</div>"
      ],
      "text/plain": [
       "                                       Book                 Author(s)  \\\n",
       "0                      A Tale of Two Cities           Charles Dickens   \n",
       "1       The Little Prince (Le Petit Prince)  Antoine de Saint-Exupéry   \n",
       "2              The Alchemist (O Alquimista)              Paulo Coelho   \n",
       "3  Harry Potter and the Philosopher's Stone             J. K. Rowling   \n",
       "4                  And Then There Were None           Agatha Christie   \n",
       "\n",
       "  Original language  First published        Approximate sales  \\\n",
       "0           English             1859         >200 million[21]   \n",
       "1            French             1943  200 million[22][23][24]   \n",
       "2        Portuguese             1988      150 million[25][26]   \n",
       "3           English             1997      120 million[27][28]   \n",
       "4           English             1939          100 million[29]   \n",
       "\n",
       "                         Genre  \n",
       "0           Historical fiction  \n",
       "1  Fantasy, children's fiction  \n",
       "2                      Fantasy  \n",
       "3  Fantasy, children's fiction  \n",
       "4                      Mystery  "
      ]
     },
     "execution_count": 235,
     "metadata": {},
     "output_type": "execute_result"
    }
   ],
   "source": [
    "print('The books with more than 100 million copies sold')\n",
    "df[0].head()"
   ]
  },
  {
   "cell_type": "code",
   "execution_count": 240,
   "id": "4e96d5d3-d937-42be-ada5-5e97f8d2024a",
   "metadata": {},
   "outputs": [],
   "source": [
    "data = df[0]"
   ]
  },
  {
   "cell_type": "code",
   "execution_count": 246,
   "id": "b734b212-e259-4ae9-83fe-c9b673bd610b",
   "metadata": {},
   "outputs": [
    {
     "name": "stdout",
     "output_type": "stream",
     "text": [
      "The most sold book is  A Tale of Two Cities\n"
     ]
    }
   ],
   "source": [
    "print('The most sold book is ', data.iloc[0, 0])"
   ]
  },
  {
   "cell_type": "code",
   "execution_count": 248,
   "id": "ec2c4ebc-0ec3-44f1-8ca5-26b30fc4b5e2",
   "metadata": {},
   "outputs": [
    {
     "data": {
      "text/plain": [
       "Original language\n",
       "English       5\n",
       "French        1\n",
       "Portuguese    1\n",
       "Chinese       1\n",
       "Name: count, dtype: int64"
      ]
     },
     "execution_count": 248,
     "metadata": {},
     "output_type": "execute_result"
    }
   ],
   "source": [
    "data['Original language'].value_counts()"
   ]
  },
  {
   "cell_type": "code",
   "execution_count": 250,
   "id": "901cf7c2-12b9-40dc-90eb-3592a7b0941c",
   "metadata": {},
   "outputs": [],
   "source": [
    "x = data['Original language'].value_counts()"
   ]
  },
  {
   "cell_type": "code",
   "execution_count": 252,
   "id": "99820313-6a47-4bbe-beb6-82ce6862da42",
   "metadata": {},
   "outputs": [
    {
     "data": {
      "text/plain": [
       "Text(0.5, 1.0, 'The top original languages of books')"
      ]
     },
     "execution_count": 252,
     "metadata": {},
     "output_type": "execute_result"
    },
    {
     "data": {
      "image/png": "[encoded data removed]",
      "text/plain": [
       "<Figure size 640x480 with 1 Axes>"
      ]
     },
     "metadata": {},
     "output_type": "display_data"
    }
   ],
   "source": [
    "x.plot(kind = 'pie')\n",
    "plt.title('The top original languages of books')"
   ]
  },
  {
   "cell_type": "code",
   "execution_count": 254,
   "id": "b89cc62e-279e-4fec-b07a-50f849a68382",
   "metadata": {},
   "outputs": [
    {
     "name": "stdout",
     "output_type": "stream",
     "text": [
      "The books with between 50 million  and 100 million copies sold\n"
     ]
    },
    {
     "data": {
      "text/html": [
       "<div>\n",
       "<style scoped>\n",
       "    .dataframe tbody tr th:only-of-type {\n",
       "        vertical-align: middle;\n",
       "    }\n",
       "\n",
       "    .dataframe tbody tr th {\n",
       "        vertical-align: top;\n",
       "    }\n",
       "\n",
       "    .dataframe thead th {\n",
       "        text-align: right;\n",
       "    }\n",
       "</style>\n",
       "<table border=\"1\" class=\"dataframe\">\n",
       "  <thead>\n",
       "    <tr style=\"text-align: right;\">\n",
       "      <th></th>\n",
       "      <th>Book</th>\n",
       "      <th>Author(s)</th>\n",
       "      <th>Original language</th>\n",
       "      <th>First published</th>\n",
       "      <th>Approximate sales</th>\n",
       "      <th>Genre</th>\n",
       "    </tr>\n",
       "  </thead>\n",
       "  <tbody>\n",
       "    <tr>\n",
       "      <th>0</th>\n",
       "      <td>The Lion, the Witch and the Wardrobe</td>\n",
       "      <td>C.S. Lewis</td>\n",
       "      <td>English</td>\n",
       "      <td>1950</td>\n",
       "      <td>85 million[36]</td>\n",
       "      <td>Fantasy, children's fiction</td>\n",
       "    </tr>\n",
       "    <tr>\n",
       "      <th>1</th>\n",
       "      <td>She: A History of Adventure</td>\n",
       "      <td>H. Rider Haggard</td>\n",
       "      <td>English</td>\n",
       "      <td>1887</td>\n",
       "      <td>83 million[37]</td>\n",
       "      <td>Adventure</td>\n",
       "    </tr>\n",
       "    <tr>\n",
       "      <th>2</th>\n",
       "      <td>The Da Vinci Code</td>\n",
       "      <td>Dan Brown</td>\n",
       "      <td>English</td>\n",
       "      <td>2003</td>\n",
       "      <td>80 million[38]</td>\n",
       "      <td>Mystery thriller</td>\n",
       "    </tr>\n",
       "    <tr>\n",
       "      <th>3</th>\n",
       "      <td>Harry Potter and the Chamber of Secrets</td>\n",
       "      <td>J. K. Rowling</td>\n",
       "      <td>English</td>\n",
       "      <td>1998</td>\n",
       "      <td>77 million[39]</td>\n",
       "      <td>Fantasy, children's fiction</td>\n",
       "    </tr>\n",
       "    <tr>\n",
       "      <th>4</th>\n",
       "      <td>The Catcher in the Rye</td>\n",
       "      <td>J. D. Salinger</td>\n",
       "      <td>English</td>\n",
       "      <td>1951</td>\n",
       "      <td>65 million[40]</td>\n",
       "      <td>Coming-of-age</td>\n",
       "    </tr>\n",
       "  </tbody>\n",
       "</table>\n",
       "</div>"
      ],
      "text/plain": [
       "                                      Book         Author(s)  \\\n",
       "0     The Lion, the Witch and the Wardrobe        C.S. Lewis   \n",
       "1              She: A History of Adventure  H. Rider Haggard   \n",
       "2                        The Da Vinci Code         Dan Brown   \n",
       "3  Harry Potter and the Chamber of Secrets     J. K. Rowling   \n",
       "4                   The Catcher in the Rye    J. D. Salinger   \n",
       "\n",
       "  Original language  First published Approximate sales  \\\n",
       "0           English             1950    85 million[36]   \n",
       "1           English             1887    83 million[37]   \n",
       "2           English             2003    80 million[38]   \n",
       "3           English             1998    77 million[39]   \n",
       "4           English             1951    65 million[40]   \n",
       "\n",
       "                         Genre  \n",
       "0  Fantasy, children's fiction  \n",
       "1                    Adventure  \n",
       "2             Mystery thriller  \n",
       "3  Fantasy, children's fiction  \n",
       "4                Coming-of-age  "
      ]
     },
     "execution_count": 254,
     "metadata": {},
     "output_type": "execute_result"
    }
   ],
   "source": [
    "data = df[1]\n",
    "print('The books with between 50 million  and 100 million copies sold')\n",
    "data.head()"
   ]
  },
  {
   "cell_type": "code",
   "execution_count": 256,
   "id": "a56b774b-b1bb-40c3-bd16-1d10e18b45e2",
   "metadata": {},
   "outputs": [
    {
     "data": {
      "text/plain": [
       "Original language\n",
       "English    16\n",
       "Spanish     1\n",
       "German      1\n",
       "Italian     1\n",
       "Name: count, dtype: int64"
      ]
     },
     "execution_count": 256,
     "metadata": {},
     "output_type": "execute_result"
    }
   ],
   "source": [
    "data['Original language'].value_counts()"
   ]
  },
  {
   "cell_type": "code",
   "execution_count": 258,
   "id": "6ac354ec-c479-4de6-bc02-87b034006e0b",
   "metadata": {},
   "outputs": [
    {
     "data": {
      "text/plain": [
       "Book                 object\n",
       "Author(s)            object\n",
       "Original language    object\n",
       "First published       int64\n",
       "Approximate sales    object\n",
       "Genre                object\n",
       "dtype: object"
      ]
     },
     "execution_count": 258,
     "metadata": {},
     "output_type": "execute_result"
    }
   ],
   "source": [
    "data.dtypes"
   ]
  },
  {
   "cell_type": "code",
   "execution_count": 260,
   "id": "7eb4b0e4-31c1-46b9-8abe-d056c0ea4d30",
   "metadata": {},
   "outputs": [],
   "source": [
    "data = data.sort_values(by = 'First published', ascending  = True)"
   ]
  },
  {
   "cell_type": "code",
   "execution_count": 262,
   "id": "720f2bb7-5013-46ae-b49a-730a404e1795",
   "metadata": {},
   "outputs": [
    {
     "name": "stdout",
     "output_type": "stream",
     "text": [
      "The oldest books in the list\n"
     ]
    },
    {
     "data": {
      "text/html": [
       "<div>\n",
       "<style scoped>\n",
       "    .dataframe tbody tr th:only-of-type {\n",
       "        vertical-align: middle;\n",
       "    }\n",
       "\n",
       "    .dataframe tbody tr th {\n",
       "        vertical-align: top;\n",
       "    }\n",
       "\n",
       "    .dataframe thead th {\n",
       "        text-align: right;\n",
       "    }\n",
       "</style>\n",
       "<table border=\"1\" class=\"dataframe\">\n",
       "  <thead>\n",
       "    <tr style=\"text-align: right;\">\n",
       "      <th></th>\n",
       "      <th>Book</th>\n",
       "      <th>Author(s)</th>\n",
       "      <th>Original language</th>\n",
       "      <th>First published</th>\n",
       "      <th>Approximate sales</th>\n",
       "      <th>Genre</th>\n",
       "    </tr>\n",
       "  </thead>\n",
       "  <tbody>\n",
       "    <tr>\n",
       "      <th>11</th>\n",
       "      <td>Black Beauty</td>\n",
       "      <td>Anna Sewell</td>\n",
       "      <td>English</td>\n",
       "      <td>1877</td>\n",
       "      <td>50 million[49]</td>\n",
       "      <td>Children's literature</td>\n",
       "    </tr>\n",
       "    <tr>\n",
       "      <th>8</th>\n",
       "      <td>Heidi</td>\n",
       "      <td>Johanna Spyri</td>\n",
       "      <td>German</td>\n",
       "      <td>1880</td>\n",
       "      <td>50 million[46]</td>\n",
       "      <td>Children's fiction</td>\n",
       "    </tr>\n",
       "    <tr>\n",
       "      <th>1</th>\n",
       "      <td>She: A History of Adventure</td>\n",
       "      <td>H. Rider Haggard</td>\n",
       "      <td>English</td>\n",
       "      <td>1887</td>\n",
       "      <td>83 million[37]</td>\n",
       "      <td>Adventure</td>\n",
       "    </tr>\n",
       "    <tr>\n",
       "      <th>10</th>\n",
       "      <td>Anne of Green Gables</td>\n",
       "      <td>Lucy Maud Montgomery</td>\n",
       "      <td>English</td>\n",
       "      <td>1908</td>\n",
       "      <td>50 million[48]</td>\n",
       "      <td>Children's novel</td>\n",
       "    </tr>\n",
       "    <tr>\n",
       "      <th>9</th>\n",
       "      <td>The Common Sense Book of Baby and Child Care</td>\n",
       "      <td>Benjamin Spock</td>\n",
       "      <td>English</td>\n",
       "      <td>1946</td>\n",
       "      <td>50 million[47]</td>\n",
       "      <td>Manual</td>\n",
       "    </tr>\n",
       "  </tbody>\n",
       "</table>\n",
       "</div>"
      ],
      "text/plain": [
       "                                            Book             Author(s)  \\\n",
       "11                                  Black Beauty           Anna Sewell   \n",
       "8                                          Heidi         Johanna Spyri   \n",
       "1                    She: A History of Adventure      H. Rider Haggard   \n",
       "10                          Anne of Green Gables  Lucy Maud Montgomery   \n",
       "9   The Common Sense Book of Baby and Child Care        Benjamin Spock   \n",
       "\n",
       "   Original language  First published Approximate sales                  Genre  \n",
       "11           English             1877    50 million[49]  Children's literature  \n",
       "8             German             1880    50 million[46]     Children's fiction  \n",
       "1            English             1887    83 million[37]              Adventure  \n",
       "10           English             1908    50 million[48]       Children's novel  \n",
       "9            English             1946    50 million[47]                 Manual  "
      ]
     },
     "execution_count": 262,
     "metadata": {},
     "output_type": "execute_result"
    }
   ],
   "source": [
    "print('The oldest books in the list')\n",
    "data.head()"
   ]
  },
  {
   "cell_type": "code",
   "execution_count": 264,
   "id": "f6bda362-6907-4476-b132-38d25dbf7854",
   "metadata": {},
   "outputs": [
    {
     "name": "stdout",
     "output_type": "stream",
     "text": [
      "The newest books in the list\n"
     ]
    },
    {
     "data": {
      "text/html": [
       "<div>\n",
       "<style scoped>\n",
       "    .dataframe tbody tr th:only-of-type {\n",
       "        vertical-align: middle;\n",
       "    }\n",
       "\n",
       "    .dataframe tbody tr th {\n",
       "        vertical-align: top;\n",
       "    }\n",
       "\n",
       "    .dataframe thead th {\n",
       "        text-align: right;\n",
       "    }\n",
       "</style>\n",
       "<table border=\"1\" class=\"dataframe\">\n",
       "  <thead>\n",
       "    <tr style=\"text-align: right;\">\n",
       "      <th></th>\n",
       "      <th>Book</th>\n",
       "      <th>Author(s)</th>\n",
       "      <th>Original language</th>\n",
       "      <th>First published</th>\n",
       "      <th>Approximate sales</th>\n",
       "      <th>Genre</th>\n",
       "    </tr>\n",
       "  </thead>\n",
       "  <tbody>\n",
       "    <tr>\n",
       "      <th>12</th>\n",
       "      <td>The Name of the Rose (Il Nome della Rosa)</td>\n",
       "      <td>Umberto Eco</td>\n",
       "      <td>Italian</td>\n",
       "      <td>1980</td>\n",
       "      <td>50 million[50]</td>\n",
       "      <td>Historical novel, mystery</td>\n",
       "    </tr>\n",
       "    <tr>\n",
       "      <th>5</th>\n",
       "      <td>The Bridges of Madison County</td>\n",
       "      <td>Robert James Waller</td>\n",
       "      <td>English</td>\n",
       "      <td>1992</td>\n",
       "      <td>60 million[41]</td>\n",
       "      <td>Romance</td>\n",
       "    </tr>\n",
       "    <tr>\n",
       "      <th>3</th>\n",
       "      <td>Harry Potter and the Chamber of Secrets</td>\n",
       "      <td>J. K. Rowling</td>\n",
       "      <td>English</td>\n",
       "      <td>1998</td>\n",
       "      <td>77 million[39]</td>\n",
       "      <td>Fantasy, children's fiction</td>\n",
       "    </tr>\n",
       "    <tr>\n",
       "      <th>18</th>\n",
       "      <td>The Purpose Driven Life</td>\n",
       "      <td>Rick Warren</td>\n",
       "      <td>English</td>\n",
       "      <td>2002</td>\n",
       "      <td>50 million[56]</td>\n",
       "      <td>Philosophical Manual</td>\n",
       "    </tr>\n",
       "    <tr>\n",
       "      <th>2</th>\n",
       "      <td>The Da Vinci Code</td>\n",
       "      <td>Dan Brown</td>\n",
       "      <td>English</td>\n",
       "      <td>2003</td>\n",
       "      <td>80 million[38]</td>\n",
       "      <td>Mystery thriller</td>\n",
       "    </tr>\n",
       "  </tbody>\n",
       "</table>\n",
       "</div>"
      ],
      "text/plain": [
       "                                         Book            Author(s)  \\\n",
       "12  The Name of the Rose (Il Nome della Rosa)          Umberto Eco   \n",
       "5               The Bridges of Madison County  Robert James Waller   \n",
       "3     Harry Potter and the Chamber of Secrets        J. K. Rowling   \n",
       "18                    The Purpose Driven Life          Rick Warren   \n",
       "2                           The Da Vinci Code            Dan Brown   \n",
       "\n",
       "   Original language  First published Approximate sales  \\\n",
       "12           Italian             1980    50 million[50]   \n",
       "5            English             1992    60 million[41]   \n",
       "3            English             1998    77 million[39]   \n",
       "18           English             2002    50 million[56]   \n",
       "2            English             2003    80 million[38]   \n",
       "\n",
       "                          Genre  \n",
       "12    Historical novel, mystery  \n",
       "5                       Romance  \n",
       "3   Fantasy, children's fiction  \n",
       "18         Philosophical Manual  \n",
       "2              Mystery thriller  "
      ]
     },
     "execution_count": 264,
     "metadata": {},
     "output_type": "execute_result"
    }
   ],
   "source": [
    "print('The newest books in the list')\n",
    "data.tail()"
   ]
  },
  {
   "cell_type": "code",
   "execution_count": 266,
   "id": "28beb180-34b3-4d84-8004-9dacf5bf0b06",
   "metadata": {},
   "outputs": [
    {
     "data": {
      "text/plain": [
       "Author(s)\n",
       "Anna Sewell                                   1\n",
       "Gabriel García Márquez                        1\n",
       "Rick Warren                                   1\n",
       "J. K. Rowling                                 1\n",
       "Robert James Waller                           1\n",
       "Umberto Eco                                   1\n",
       "Shere Hite                                    1\n",
       "Jack Higgins                                  1\n",
       "Richard Adams                                 1\n",
       "J. P. Donleavy                                1\n",
       "Johanna Spyri                                 1\n",
       "Vladimir Nabokov                              1\n",
       "E. B. White; illustrated by Garth Williams    1\n",
       "J. D. Salinger                                1\n",
       "C.S. Lewis                                    1\n",
       "Benjamin Spock                                1\n",
       "Lucy Maud Montgomery                          1\n",
       "H. Rider Haggard                              1\n",
       "Dan Brown                                     1\n",
       "Name: count, dtype: int64"
      ]
     },
     "execution_count": 266,
     "metadata": {},
     "output_type": "execute_result"
    }
   ],
   "source": [
    "data['Author(s)'].value_counts()"
   ]
  },
  {
   "cell_type": "code",
   "execution_count": 268,
   "id": "b4aac00e-7e1b-41a4-88be-d941601fa303",
   "metadata": {},
   "outputs": [
    {
     "data": {
      "text/plain": [
       "Book                 0\n",
       "Author(s)            0\n",
       "Original language    0\n",
       "First published      0\n",
       "Approximate sales    0\n",
       "Genre                0\n",
       "dtype: int64"
      ]
     },
     "execution_count": 268,
     "metadata": {},
     "output_type": "execute_result"
    }
   ],
   "source": [
    "data.isnull().sum()"
   ]
  },
  {
   "cell_type": "code",
   "execution_count": 270,
   "id": "fab3a3cd-0362-4837-ad32-c4e854a37422",
   "metadata": {},
   "outputs": [
    {
     "data": {
      "text/plain": [
       "Genre\n",
       "Children's fiction             3\n",
       "Fantasy, children's fiction    2\n",
       "Novel                          2\n",
       "Children's literature          1\n",
       "Adventure                      1\n",
       "Children's novel               1\n",
       "Manual                         1\n",
       "Coming-of-age                  1\n",
       "Magic realism                  1\n",
       "War, thriller                  1\n",
       "nonfiction                     1\n",
       "Historical novel, mystery      1\n",
       "Romance                        1\n",
       "Philosophical Manual           1\n",
       "Mystery thriller               1\n",
       "Name: count, dtype: int64"
      ]
     },
     "execution_count": 270,
     "metadata": {},
     "output_type": "execute_result"
    }
   ],
   "source": [
    "data['Genre'].value_counts()"
   ]
  },
  {
   "cell_type": "code",
   "execution_count": 272,
   "id": "849d4b03-60b4-4019-8aeb-a88804a9610e",
   "metadata": {},
   "outputs": [],
   "source": [
    "x = data['Genre'].value_counts().head(3)"
   ]
  },
  {
   "cell_type": "code",
   "execution_count": 274,
   "id": "41a23dd7-c9d7-4816-ade1-26f9cd5f6a3f",
   "metadata": {},
   "outputs": [
    {
     "data": {
      "text/plain": [
       "Text(0.5, 1.0, 'Top Genres')"
      ]
     },
     "execution_count": 274,
     "metadata": {},
     "output_type": "execute_result"
    },
    {
     "data": {
      "image/png": "[encoded data removed]",
      "text/plain": [
       "<Figure size 640x480 with 1 Axes>"
      ]
     },
     "metadata": {},
     "output_type": "display_data"
    }
   ],
   "source": [
    "x.plot(kind = 'pie')\n",
    "plt.title('Top Genres')"
   ]
  },
  {
   "cell_type": "code",
   "execution_count": 276,
   "id": "757d22d1-34c6-44b3-adb8-45b3fcef21ce",
   "metadata": {},
   "outputs": [],
   "source": [
    "data['Years'] = data['First published'].apply(lambda x: '2000s' if x >= 2000 else ('1900s' if x > 1900 else '1800s'))"
   ]
  },
  {
   "cell_type": "code",
   "execution_count": 278,
   "id": "0fc9bbad-1e6e-411e-95b2-f41eb2f03be6",
   "metadata": {},
   "outputs": [
    {
     "data": {
      "text/html": [
       "<div>\n",
       "<style scoped>\n",
       "    .dataframe tbody tr th:only-of-type {\n",
       "        vertical-align: middle;\n",
       "    }\n",
       "\n",
       "    .dataframe tbody tr th {\n",
       "        vertical-align: top;\n",
       "    }\n",
       "\n",
       "    .dataframe thead th {\n",
       "        text-align: right;\n",
       "    }\n",
       "</style>\n",
       "<table border=\"1\" class=\"dataframe\">\n",
       "  <thead>\n",
       "    <tr style=\"text-align: right;\">\n",
       "      <th></th>\n",
       "      <th>Book</th>\n",
       "      <th>Author(s)</th>\n",
       "      <th>Original language</th>\n",
       "      <th>First published</th>\n",
       "      <th>Approximate sales</th>\n",
       "      <th>Genre</th>\n",
       "      <th>Years</th>\n",
       "    </tr>\n",
       "  </thead>\n",
       "  <tbody>\n",
       "    <tr>\n",
       "      <th>11</th>\n",
       "      <td>Black Beauty</td>\n",
       "      <td>Anna Sewell</td>\n",
       "      <td>English</td>\n",
       "      <td>1877</td>\n",
       "      <td>50 million[49]</td>\n",
       "      <td>Children's literature</td>\n",
       "      <td>1800s</td>\n",
       "    </tr>\n",
       "    <tr>\n",
       "      <th>8</th>\n",
       "      <td>Heidi</td>\n",
       "      <td>Johanna Spyri</td>\n",
       "      <td>German</td>\n",
       "      <td>1880</td>\n",
       "      <td>50 million[46]</td>\n",
       "      <td>Children's fiction</td>\n",
       "      <td>1800s</td>\n",
       "    </tr>\n",
       "    <tr>\n",
       "      <th>1</th>\n",
       "      <td>She: A History of Adventure</td>\n",
       "      <td>H. Rider Haggard</td>\n",
       "      <td>English</td>\n",
       "      <td>1887</td>\n",
       "      <td>83 million[37]</td>\n",
       "      <td>Adventure</td>\n",
       "      <td>1800s</td>\n",
       "    </tr>\n",
       "    <tr>\n",
       "      <th>10</th>\n",
       "      <td>Anne of Green Gables</td>\n",
       "      <td>Lucy Maud Montgomery</td>\n",
       "      <td>English</td>\n",
       "      <td>1908</td>\n",
       "      <td>50 million[48]</td>\n",
       "      <td>Children's novel</td>\n",
       "      <td>1900s</td>\n",
       "    </tr>\n",
       "    <tr>\n",
       "      <th>9</th>\n",
       "      <td>The Common Sense Book of Baby and Child Care</td>\n",
       "      <td>Benjamin Spock</td>\n",
       "      <td>English</td>\n",
       "      <td>1946</td>\n",
       "      <td>50 million[47]</td>\n",
       "      <td>Manual</td>\n",
       "      <td>1900s</td>\n",
       "    </tr>\n",
       "  </tbody>\n",
       "</table>\n",
       "</div>"
      ],
      "text/plain": [
       "                                            Book             Author(s)  \\\n",
       "11                                  Black Beauty           Anna Sewell   \n",
       "8                                          Heidi         Johanna Spyri   \n",
       "1                    She: A History of Adventure      H. Rider Haggard   \n",
       "10                          Anne of Green Gables  Lucy Maud Montgomery   \n",
       "9   The Common Sense Book of Baby and Child Care        Benjamin Spock   \n",
       "\n",
       "   Original language  First published Approximate sales  \\\n",
       "11           English             1877    50 million[49]   \n",
       "8             German             1880    50 million[46]   \n",
       "1            English             1887    83 million[37]   \n",
       "10           English             1908    50 million[48]   \n",
       "9            English             1946    50 million[47]   \n",
       "\n",
       "                    Genre  Years  \n",
       "11  Children's literature  1800s  \n",
       "8      Children's fiction  1800s  \n",
       "1               Adventure  1800s  \n",
       "10       Children's novel  1900s  \n",
       "9                  Manual  1900s  "
      ]
     },
     "execution_count": 278,
     "metadata": {},
     "output_type": "execute_result"
    }
   ],
   "source": [
    "data.head()"
   ]
  },
  {
   "cell_type": "code",
   "execution_count": 280,
   "id": "1db33fbf-a438-4e43-96be-d3e9b48e8012",
   "metadata": {},
   "outputs": [],
   "source": [
    "x = data['Years'].value_counts()"
   ]
  },
  {
   "cell_type": "code",
   "execution_count": 282,
   "id": "0a57bf7e-4784-4e62-8669-82a2dfc63627",
   "metadata": {},
   "outputs": [
    {
     "data": {
      "text/plain": [
       "Text(0.5, 1.0, 'Top books from different centuries')"
      ]
     },
     "execution_count": 282,
     "metadata": {},
     "output_type": "execute_result"
    },
    {
     "data": {
      "image/png": "[encoded data removed]",
      "text/plain": [
       "<Figure size 640x480 with 1 Axes>"
      ]
     },
     "metadata": {},
     "output_type": "display_data"
    }
   ],
   "source": [
    "x.plot(kind = 'bar', color = 'r')\n",
    "plt.title('Top books from different centuries')"
   ]
  },
  {
   "cell_type": "code",
   "execution_count": 284,
   "id": "2c4d81bd-802e-4a30-807e-a99c376f348d",
   "metadata": {},
   "outputs": [],
   "source": [
    "x = data['Original language'].value_counts()"
   ]
  },
  {
   "cell_type": "code",
   "execution_count": 286,
   "id": "6c4cf223-01b4-4c4e-8902-07304dc43a31",
   "metadata": {},
   "outputs": [
    {
     "data": {
      "text/plain": [
       "<Axes: xlabel='Original language'>"
      ]
     },
     "execution_count": 286,
     "metadata": {},
     "output_type": "execute_result"
    },
    {
     "data": {
      "image/png": "[encoded data removed]",
      "text/plain": [
       "<Figure size 640x480 with 1 Axes>"
      ]
     },
     "metadata": {},
     "output_type": "display_data"
    }
   ],
   "source": [
    "x.plot(kind = 'bar', color = 'y')"
   ]
  },
  {
   "cell_type": "code",
   "execution_count": 288,
   "id": "a235f5ad-e22f-4673-8f62-41d0df3e7d63",
   "metadata": {},
   "outputs": [],
   "source": [
    "data = df[2]"
   ]
  },
  {
   "cell_type": "code",
   "execution_count": 290,
   "id": "fbd4dff1-c59e-4ea9-bbcb-7103cec8dd1d",
   "metadata": {},
   "outputs": [
    {
     "name": "stdout",
     "output_type": "stream",
     "text": [
      "The top books with less than 50 million copies sold\n"
     ]
    },
    {
     "data": {
      "text/html": [
       "<div>\n",
       "<style scoped>\n",
       "    .dataframe tbody tr th:only-of-type {\n",
       "        vertical-align: middle;\n",
       "    }\n",
       "\n",
       "    .dataframe tbody tr th {\n",
       "        vertical-align: top;\n",
       "    }\n",
       "\n",
       "    .dataframe thead th {\n",
       "        text-align: right;\n",
       "    }\n",
       "</style>\n",
       "<table border=\"1\" class=\"dataframe\">\n",
       "  <thead>\n",
       "    <tr style=\"text-align: right;\">\n",
       "      <th></th>\n",
       "      <th>Book</th>\n",
       "      <th>Author(s)</th>\n",
       "      <th>Original language</th>\n",
       "      <th>First published</th>\n",
       "      <th>Approximate sales</th>\n",
       "      <th>Genre</th>\n",
       "    </tr>\n",
       "  </thead>\n",
       "  <tbody>\n",
       "    <tr>\n",
       "      <th>0</th>\n",
       "      <td>The Tale of Peter Rabbit</td>\n",
       "      <td>Beatrix Potter</td>\n",
       "      <td>English</td>\n",
       "      <td>1902</td>\n",
       "      <td>45 million[57]</td>\n",
       "      <td>Children's literature</td>\n",
       "    </tr>\n",
       "    <tr>\n",
       "      <th>1</th>\n",
       "      <td>Jonathan Livingston Seagull</td>\n",
       "      <td>Richard Bach</td>\n",
       "      <td>English</td>\n",
       "      <td>1970</td>\n",
       "      <td>44 million[58]</td>\n",
       "      <td>Novella, self-help</td>\n",
       "    </tr>\n",
       "    <tr>\n",
       "      <th>2</th>\n",
       "      <td>The Very Hungry Caterpillar</td>\n",
       "      <td>Eric Carle</td>\n",
       "      <td>English</td>\n",
       "      <td>1969</td>\n",
       "      <td>43 million[59]</td>\n",
       "      <td>Children's literature, picture book</td>\n",
       "    </tr>\n",
       "    <tr>\n",
       "      <th>3</th>\n",
       "      <td>A Message to Garcia</td>\n",
       "      <td>Elbert Hubbard</td>\n",
       "      <td>English</td>\n",
       "      <td>1899</td>\n",
       "      <td>40 million[47]</td>\n",
       "      <td>Essay/literature</td>\n",
       "    </tr>\n",
       "    <tr>\n",
       "      <th>4</th>\n",
       "      <td>To Kill a Mockingbird</td>\n",
       "      <td>Harper Lee</td>\n",
       "      <td>English</td>\n",
       "      <td>1960</td>\n",
       "      <td>40 million[60]</td>\n",
       "      <td>Southern Gothic, Bildungsroman</td>\n",
       "    </tr>\n",
       "  </tbody>\n",
       "</table>\n",
       "</div>"
      ],
      "text/plain": [
       "                          Book       Author(s) Original language  \\\n",
       "0     The Tale of Peter Rabbit  Beatrix Potter           English   \n",
       "1  Jonathan Livingston Seagull    Richard Bach           English   \n",
       "2  The Very Hungry Caterpillar      Eric Carle           English   \n",
       "3          A Message to Garcia  Elbert Hubbard           English   \n",
       "4        To Kill a Mockingbird      Harper Lee           English   \n",
       "\n",
       "   First published Approximate sales                                Genre  \n",
       "0             1902    45 million[57]                Children's literature  \n",
       "1             1970    44 million[58]                   Novella, self-help  \n",
       "2             1969    43 million[59]  Children's literature, picture book  \n",
       "3             1899    40 million[47]                     Essay/literature  \n",
       "4             1960    40 million[60]       Southern Gothic, Bildungsroman  "
      ]
     },
     "execution_count": 290,
     "metadata": {},
     "output_type": "execute_result"
    }
   ],
   "source": [
    "print('The top books with less than 50 million copies sold')\n",
    "data.head()"
   ]
  },
  {
   "cell_type": "code",
   "execution_count": 292,
   "id": "1d82023e-25b4-4c6a-b759-cd2413150c04",
   "metadata": {},
   "outputs": [
    {
     "data": {
      "text/plain": [
       "70"
      ]
     },
     "execution_count": 292,
     "metadata": {},
     "output_type": "execute_result"
    }
   ],
   "source": [
    "data.shape[0]"
   ]
  },
  {
   "cell_type": "code",
   "execution_count": 294,
   "id": "c07d2c2c-0f0c-4c14-a26a-d6544d43a7b6",
   "metadata": {},
   "outputs": [
    {
     "data": {
      "text/plain": [
       "Author(s)\n",
       "Suzanne Collins                            3\n",
       "Dan Brown                                  2\n",
       "Roald Dahl                                 2\n",
       "Chinua Achebe                              1\n",
       "Charles Berlitz                            1\n",
       "                                          ..\n",
       "Stephen Hawking                            1\n",
       "Jacques-Henri Bernardin de Saint-Pierre    1\n",
       "Irving Stone                               1\n",
       "Kenneth Grahame                            1\n",
       "Natsume Sōseki                             1\n",
       "Name: count, Length: 66, dtype: int64"
      ]
     },
     "execution_count": 294,
     "metadata": {},
     "output_type": "execute_result"
    }
   ],
   "source": [
    "data['Author(s)'].value_counts()"
   ]
  },
  {
   "cell_type": "code",
   "execution_count": 296,
   "id": "bd2e3605-7bfe-4957-93df-ef832e5589ec",
   "metadata": {},
   "outputs": [],
   "source": [
    "x = data['Author(s)'].value_counts().head(3)"
   ]
  },
  {
   "cell_type": "code",
   "execution_count": 302,
   "id": "b017d1a5-38ae-44b2-9323-3d0801302576",
   "metadata": {},
   "outputs": [
    {
     "data": {
      "text/plain": [
       "<Axes: xlabel='Author(s)'>"
      ]
     },
     "execution_count": 302,
     "metadata": {},
     "output_type": "execute_result"
    },
    {
     "data": {
      "image/png": "[encoded data removed]",
      "text/plain": [
       "<Figure size 640x480 with 1 Axes>"
      ]
     },
     "metadata": {},
     "output_type": "display_data"
    }
   ],
   "source": [
    "x.plot(kind = 'bar', color = 'b')"
   ]
  },
  {
   "cell_type": "code",
   "execution_count": 306,
   "id": "68d195d2-e357-4100-ab18-f334f69a93ce",
   "metadata": {},
   "outputs": [
    {
     "data": {
      "text/plain": [
       "Genre\n",
       "Novel                    7\n",
       "Self-help                6\n",
       "Fiction                  3\n",
       "Children's literature    2\n",
       "Thriller                 2\n",
       "Science fiction novel    2\n",
       "Name: count, dtype: int64"
      ]
     },
     "execution_count": 306,
     "metadata": {},
     "output_type": "execute_result"
    }
   ],
   "source": [
    "data['Genre'].value_counts().head(6)"
   ]
  },
  {
   "cell_type": "code",
   "execution_count": 310,
   "id": "8c33a44f-79fa-45d6-a2f3-8767fe7df72c",
   "metadata": {},
   "outputs": [
    {
     "data": {
      "text/plain": [
       "Text(0.5, 1.0, 'The most popular genres in the list')"
      ]
     },
     "execution_count": 310,
     "metadata": {},
     "output_type": "execute_result"
    },
    {
     "data": {
      "image/png": "[encoded data removed]",
      "text/plain": [
       "<Figure size 640x480 with 1 Axes>"
      ]
     },
     "metadata": {},
     "output_type": "display_data"
    }
   ],
   "source": [
    "x = data['Genre'].value_counts().head(6)\n",
    "x.plot(kind = 'pie')\n",
    "plt.title('The most popular genres in the list')"
   ]
  },
  {
   "cell_type": "code",
   "execution_count": 316,
   "id": "de15b38b-a9ae-4e59-9921-a0179e73c60d",
   "metadata": {},
   "outputs": [],
   "source": [
    "x = data['Original language'].value_counts().head(4)"
   ]
  },
  {
   "cell_type": "code",
   "execution_count": 322,
   "id": "07b99082-cac2-440e-8646-6815e37e3dc7",
   "metadata": {},
   "outputs": [
    {
     "data": {
      "text/plain": [
       "<Axes: xlabel='Original language'>"
      ]
     },
     "execution_count": 322,
     "metadata": {},
     "output_type": "execute_result"
    },
    {
     "data": {
      "image/png": "[encoded data removed]",
      "text/plain": [
       "<Figure size 640x480 with 1 Axes>"
      ]
     },
     "metadata": {},
     "output_type": "display_data"
    }
   ],
   "source": [
    "x.plot(kind = 'bar', color = 'g')"
   ]
  },
  {
   "cell_type": "code",
   "execution_count": 324,
   "id": "d157b33a-a027-4016-b66c-1ff78e15e60e",
   "metadata": {},
   "outputs": [],
   "source": [
    "data['Years'] = data['First published'].apply(lambda x: '2000s' if x >= 2000 else ('1900s' if x >= 1900 else '1800s'))"
   ]
  },
  {
   "cell_type": "code",
   "execution_count": 326,
   "id": "55ee3c32-9ee8-4614-b0a5-cd9f26fedb14",
   "metadata": {},
   "outputs": [
    {
     "data": {
      "text/html": [
       "<div>\n",
       "<style scoped>\n",
       "    .dataframe tbody tr th:only-of-type {\n",
       "        vertical-align: middle;\n",
       "    }\n",
       "\n",
       "    .dataframe tbody tr th {\n",
       "        vertical-align: top;\n",
       "    }\n",
       "\n",
       "    .dataframe thead th {\n",
       "        text-align: right;\n",
       "    }\n",
       "</style>\n",
       "<table border=\"1\" class=\"dataframe\">\n",
       "  <thead>\n",
       "    <tr style=\"text-align: right;\">\n",
       "      <th></th>\n",
       "      <th>Book</th>\n",
       "      <th>Author(s)</th>\n",
       "      <th>Original language</th>\n",
       "      <th>First published</th>\n",
       "      <th>Approximate sales</th>\n",
       "      <th>Genre</th>\n",
       "      <th>Years</th>\n",
       "    </tr>\n",
       "  </thead>\n",
       "  <tbody>\n",
       "    <tr>\n",
       "      <th>0</th>\n",
       "      <td>The Tale of Peter Rabbit</td>\n",
       "      <td>Beatrix Potter</td>\n",
       "      <td>English</td>\n",
       "      <td>1902</td>\n",
       "      <td>45 million[57]</td>\n",
       "      <td>Children's literature</td>\n",
       "      <td>1900s</td>\n",
       "    </tr>\n",
       "    <tr>\n",
       "      <th>1</th>\n",
       "      <td>Jonathan Livingston Seagull</td>\n",
       "      <td>Richard Bach</td>\n",
       "      <td>English</td>\n",
       "      <td>1970</td>\n",
       "      <td>44 million[58]</td>\n",
       "      <td>Novella, self-help</td>\n",
       "      <td>1900s</td>\n",
       "    </tr>\n",
       "    <tr>\n",
       "      <th>2</th>\n",
       "      <td>The Very Hungry Caterpillar</td>\n",
       "      <td>Eric Carle</td>\n",
       "      <td>English</td>\n",
       "      <td>1969</td>\n",
       "      <td>43 million[59]</td>\n",
       "      <td>Children's literature, picture book</td>\n",
       "      <td>1900s</td>\n",
       "    </tr>\n",
       "    <tr>\n",
       "      <th>3</th>\n",
       "      <td>A Message to Garcia</td>\n",
       "      <td>Elbert Hubbard</td>\n",
       "      <td>English</td>\n",
       "      <td>1899</td>\n",
       "      <td>40 million[47]</td>\n",
       "      <td>Essay/literature</td>\n",
       "      <td>1800s</td>\n",
       "    </tr>\n",
       "    <tr>\n",
       "      <th>4</th>\n",
       "      <td>To Kill a Mockingbird</td>\n",
       "      <td>Harper Lee</td>\n",
       "      <td>English</td>\n",
       "      <td>1960</td>\n",
       "      <td>40 million[60]</td>\n",
       "      <td>Southern Gothic, Bildungsroman</td>\n",
       "      <td>1900s</td>\n",
       "    </tr>\n",
       "  </tbody>\n",
       "</table>\n",
       "</div>"
      ],
      "text/plain": [
       "                          Book       Author(s) Original language  \\\n",
       "0     The Tale of Peter Rabbit  Beatrix Potter           English   \n",
       "1  Jonathan Livingston Seagull    Richard Bach           English   \n",
       "2  The Very Hungry Caterpillar      Eric Carle           English   \n",
       "3          A Message to Garcia  Elbert Hubbard           English   \n",
       "4        To Kill a Mockingbird      Harper Lee           English   \n",
       "\n",
       "   First published Approximate sales                                Genre  \\\n",
       "0             1902    45 million[57]                Children's literature   \n",
       "1             1970    44 million[58]                   Novella, self-help   \n",
       "2             1969    43 million[59]  Children's literature, picture book   \n",
       "3             1899    40 million[47]                     Essay/literature   \n",
       "4             1960    40 million[60]       Southern Gothic, Bildungsroman   \n",
       "\n",
       "   Years  \n",
       "0  1900s  \n",
       "1  1900s  \n",
       "2  1900s  \n",
       "3  1800s  \n",
       "4  1900s  "
      ]
     },
     "execution_count": 326,
     "metadata": {},
     "output_type": "execute_result"
    }
   ],
   "source": [
    "data.head()"
   ]
  },
  {
   "cell_type": "code",
   "execution_count": 328,
   "id": "cb9cefa5-c271-4153-a852-a4cdcad8a53e",
   "metadata": {},
   "outputs": [
    {
     "data": {
      "text/plain": [
       "Years\n",
       "1900s    51\n",
       "2000s    13\n",
       "1800s     6\n",
       "Name: count, dtype: int64"
      ]
     },
     "execution_count": 328,
     "metadata": {},
     "output_type": "execute_result"
    }
   ],
   "source": [
    "x = data['Years'].value_counts()\n",
    "x"
   ]
  },
  {
   "cell_type": "code",
   "execution_count": 330,
   "id": "d1fd9d15-19e3-4838-a707-a7316b0763cd",
   "metadata": {},
   "outputs": [
    {
     "data": {
      "text/plain": [
       "<Axes: ylabel='count'>"
      ]
     },
     "execution_count": 330,
     "metadata": {},
     "output_type": "execute_result"
    },
    {
     "data": {
      "image/png": "[encoded data removed]",
      "text/plain": [
       "<Figure size 640x480 with 1 Axes>"
      ]
     },
     "metadata": {},
     "output_type": "display_data"
    }
   ],
   "source": [
    "x.plot(kind = 'pie')"
   ]
  }
 ],
 "metadata": {
  "kernelspec": {
   "display_name": "Python [conda env:base] *",
   "language": "python",
   "name": "conda-base-py"
  },
  "language_info": {
   "codemirror_mode": {
    "name": "ipython",
    "version": 3
   },
   "file_extension": ".py",
   "mimetype": "text/x-python",
   "name": "python",
   "nbconvert_exporter": "python",
   "pygments_lexer": "ipython3",
   "version": "3.12.7"
  }
 },
 "nbformat": 4,
 "nbformat_minor": 5
}
